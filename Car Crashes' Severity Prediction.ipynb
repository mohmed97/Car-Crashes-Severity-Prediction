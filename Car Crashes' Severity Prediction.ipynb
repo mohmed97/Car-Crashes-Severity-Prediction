{
 "cells": [
  {
   "cell_type": "markdown",
   "id": "77f6a5c1",
   "metadata": {
    "papermill": {
     "duration": 0.02689,
     "end_time": "2021-07-27T16:52:58.946822",
     "exception": false,
     "start_time": "2021-07-27T16:52:58.919932",
     "status": "completed"
    },
    "tags": []
   },
   "source": [
    "## You're here! \n",
    "Welcome to your first competition in the [ITI's AI Pro training program](https://ai.iti.gov.eg/epita/ai-engineer/)! We hope you enjoy and learn as much as we did prepairing this competition.\n",
    "\n",
    "\n",
    "## Introduction\n",
    "\n",
    "In the competition, it's required to predict the `Severity` of a car crash given info about the crash, e.g., location.\n",
    "\n",
    "This is the getting started notebook. Things are kept simple so that it's easier to understand the steps and modify it.\n",
    "\n",
    "Feel free to `Fork` this notebook and share it with your modifications **OR** use it to create your submissions.\n",
    "\n",
    "### Prerequisites\n",
    "You should know how to use python and a little bit of Machine Learning. You can apply the techniques you learned in the training program and submit the new solutions! \n",
    "\n",
    "### Checklist\n",
    "You can participate in this competition the way you perefer. However, I recommend following these steps if this is your first time joining a competition on Kaggle.\n",
    "\n",
    "* Fork this notebook and run the cells in order.\n",
    "* Submit this solution.\n",
    "* Make changes to the data processing step as you see fit.\n",
    "* Submit the new solutions.\n",
    "\n",
    "*You can submit up to 5 submissions per day. You can select only one of the submission you make to be considered in the final ranking.*\n",
    "\n",
    "\n",
    "Don't hesitate to leave a comment or contact me if you have any question!"
   ]
  },
  {
   "cell_type": "markdown",
   "id": "a178c3be",
   "metadata": {
    "papermill": {
     "duration": 0.025495,
     "end_time": "2021-07-27T16:52:58.998905",
     "exception": false,
     "start_time": "2021-07-27T16:52:58.973410",
     "status": "completed"
    },
    "tags": []
   },
   "source": [
    "## Import the libraries\n",
    "\n",
    "We'll use `pandas` to load and manipulate the data. Other libraries will be imported in the relevant sections."
   ]
  },
  {
   "cell_type": "code",
   "execution_count": 1,
   "id": "433864b4",
   "metadata": {
    "_cell_guid": "b1076dfc-b9ad-4769-8c92-a6c4dae69d19",
    "_uuid": "8f2839f25d086af736a60e9eeb907d3b93b6e0e5",
    "execution": {
     "iopub.execute_input": "2021-07-27T16:52:59.053810Z",
     "iopub.status.busy": "2021-07-27T16:52:59.052977Z",
     "iopub.status.idle": "2021-07-27T16:52:59.060018Z",
     "shell.execute_reply": "2021-07-27T16:52:59.060385Z",
     "shell.execute_reply.started": "2021-07-27T16:50:26.044365Z"
    },
    "papermill": {
     "duration": 0.036188,
     "end_time": "2021-07-27T16:52:59.060576",
     "exception": false,
     "start_time": "2021-07-27T16:52:59.024388",
     "status": "completed"
    },
    "tags": []
   },
   "outputs": [],
   "source": [
    "import pandas as pd\n",
    "import os\n",
    "import numpy as np"
   ]
  },
  {
   "cell_type": "markdown",
   "id": "8cff1ebb",
   "metadata": {
    "papermill": {
     "duration": 0.025724,
     "end_time": "2021-07-27T16:52:59.112743",
     "exception": false,
     "start_time": "2021-07-27T16:52:59.087019",
     "status": "completed"
    },
    "tags": []
   },
   "source": [
    "## Exploratory Data Analysis\n",
    "In this step, one should load the data and analyze it. However, I'll load the data and do minimal analysis. You are encouraged to do thorough analysis!\n",
    "\n",
    "Let's load the data using `pandas` and have a look at the generated `DataFrame`."
   ]
  },
  {
   "cell_type": "code",
   "execution_count": 2,
   "id": "df8ba032",
   "metadata": {
    "execution": {
     "iopub.execute_input": "2021-07-27T16:52:59.167979Z",
     "iopub.status.busy": "2021-07-27T16:52:59.167478Z",
     "iopub.status.idle": "2021-07-27T16:52:59.297448Z",
     "shell.execute_reply": "2021-07-27T16:52:59.297013Z",
     "shell.execute_reply.started": "2021-07-27T16:50:26.060407Z"
    },
    "papermill": {
     "duration": 0.158667,
     "end_time": "2021-07-27T16:52:59.297555",
     "exception": false,
     "start_time": "2021-07-27T16:52:59.138888",
     "status": "completed"
    },
    "tags": []
   },
   "outputs": [
    {
     "name": "stdout",
     "output_type": "stream",
     "text": [
      "The shape of the dataset is (6407, 16).\n",
      "\n",
      "\n"
     ]
    },
    {
     "data": {
      "text/html": [
       "<div>\n",
       "<style scoped>\n",
       "    .dataframe tbody tr th:only-of-type {\n",
       "        vertical-align: middle;\n",
       "    }\n",
       "\n",
       "    .dataframe tbody tr th {\n",
       "        vertical-align: top;\n",
       "    }\n",
       "\n",
       "    .dataframe thead th {\n",
       "        text-align: right;\n",
       "    }\n",
       "</style>\n",
       "<table border=\"1\" class=\"dataframe\">\n",
       "  <thead>\n",
       "    <tr style=\"text-align: right;\">\n",
       "      <th></th>\n",
       "      <th>ID</th>\n",
       "      <th>Lat</th>\n",
       "      <th>Lng</th>\n",
       "      <th>Bump</th>\n",
       "      <th>Distance(mi)</th>\n",
       "      <th>Crossing</th>\n",
       "      <th>Give_Way</th>\n",
       "      <th>Junction</th>\n",
       "      <th>No_Exit</th>\n",
       "      <th>Railway</th>\n",
       "      <th>Roundabout</th>\n",
       "      <th>Stop</th>\n",
       "      <th>Amenity</th>\n",
       "      <th>Side</th>\n",
       "      <th>Severity</th>\n",
       "      <th>timestamp</th>\n",
       "    </tr>\n",
       "  </thead>\n",
       "  <tbody>\n",
       "    <tr>\n",
       "      <th>0</th>\n",
       "      <td>0</td>\n",
       "      <td>37.762150</td>\n",
       "      <td>-122.405660</td>\n",
       "      <td>False</td>\n",
       "      <td>0.044</td>\n",
       "      <td>False</td>\n",
       "      <td>False</td>\n",
       "      <td>False</td>\n",
       "      <td>False</td>\n",
       "      <td>False</td>\n",
       "      <td>False</td>\n",
       "      <td>False</td>\n",
       "      <td>True</td>\n",
       "      <td>R</td>\n",
       "      <td>2</td>\n",
       "      <td>2016-03-25 15:13:02</td>\n",
       "    </tr>\n",
       "    <tr>\n",
       "      <th>1</th>\n",
       "      <td>1</td>\n",
       "      <td>37.719157</td>\n",
       "      <td>-122.448254</td>\n",
       "      <td>False</td>\n",
       "      <td>0.000</td>\n",
       "      <td>False</td>\n",
       "      <td>False</td>\n",
       "      <td>False</td>\n",
       "      <td>False</td>\n",
       "      <td>False</td>\n",
       "      <td>False</td>\n",
       "      <td>False</td>\n",
       "      <td>False</td>\n",
       "      <td>R</td>\n",
       "      <td>2</td>\n",
       "      <td>2020-05-05 19:23:00</td>\n",
       "    </tr>\n",
       "    <tr>\n",
       "      <th>2</th>\n",
       "      <td>2</td>\n",
       "      <td>37.808498</td>\n",
       "      <td>-122.366852</td>\n",
       "      <td>False</td>\n",
       "      <td>0.000</td>\n",
       "      <td>False</td>\n",
       "      <td>False</td>\n",
       "      <td>False</td>\n",
       "      <td>False</td>\n",
       "      <td>False</td>\n",
       "      <td>False</td>\n",
       "      <td>True</td>\n",
       "      <td>False</td>\n",
       "      <td>R</td>\n",
       "      <td>3</td>\n",
       "      <td>2016-09-16 19:57:16</td>\n",
       "    </tr>\n",
       "    <tr>\n",
       "      <th>3</th>\n",
       "      <td>3</td>\n",
       "      <td>37.785930</td>\n",
       "      <td>-122.391080</td>\n",
       "      <td>False</td>\n",
       "      <td>0.009</td>\n",
       "      <td>False</td>\n",
       "      <td>False</td>\n",
       "      <td>True</td>\n",
       "      <td>False</td>\n",
       "      <td>False</td>\n",
       "      <td>False</td>\n",
       "      <td>False</td>\n",
       "      <td>False</td>\n",
       "      <td>R</td>\n",
       "      <td>1</td>\n",
       "      <td>2020-03-29 19:48:43</td>\n",
       "    </tr>\n",
       "    <tr>\n",
       "      <th>4</th>\n",
       "      <td>4</td>\n",
       "      <td>37.719141</td>\n",
       "      <td>-122.448457</td>\n",
       "      <td>False</td>\n",
       "      <td>0.000</td>\n",
       "      <td>False</td>\n",
       "      <td>False</td>\n",
       "      <td>False</td>\n",
       "      <td>False</td>\n",
       "      <td>False</td>\n",
       "      <td>False</td>\n",
       "      <td>False</td>\n",
       "      <td>False</td>\n",
       "      <td>R</td>\n",
       "      <td>2</td>\n",
       "      <td>2019-10-09 08:47:00</td>\n",
       "    </tr>\n",
       "  </tbody>\n",
       "</table>\n",
       "</div>"
      ],
      "text/plain": [
       "   ID        Lat         Lng   Bump  Distance(mi)  Crossing  Give_Way  \\\n",
       "0   0  37.762150 -122.405660  False         0.044     False     False   \n",
       "1   1  37.719157 -122.448254  False         0.000     False     False   \n",
       "2   2  37.808498 -122.366852  False         0.000     False     False   \n",
       "3   3  37.785930 -122.391080  False         0.009     False     False   \n",
       "4   4  37.719141 -122.448457  False         0.000     False     False   \n",
       "\n",
       "   Junction  No_Exit  Railway  Roundabout   Stop  Amenity Side  Severity  \\\n",
       "0     False    False    False       False  False     True    R         2   \n",
       "1     False    False    False       False  False    False    R         2   \n",
       "2     False    False    False       False   True    False    R         3   \n",
       "3      True    False    False       False  False    False    R         1   \n",
       "4     False    False    False       False  False    False    R         2   \n",
       "\n",
       "             timestamp  \n",
       "0  2016-03-25 15:13:02  \n",
       "1  2020-05-05 19:23:00  \n",
       "2  2016-09-16 19:57:16  \n",
       "3  2020-03-29 19:48:43  \n",
       "4  2019-10-09 08:47:00  "
      ]
     },
     "execution_count": 2,
     "metadata": {},
     "output_type": "execute_result"
    }
   ],
   "source": [
    "dataset_path = '/kaggle/input/car-crashes-severity-prediction/'\n",
    "\n",
    "df = pd.read_csv(os.path.join(dataset_path, 'train.csv'))\n",
    "\n",
    "print(\"The shape of the dataset is {}.\\n\\n\".format(df.shape))\n",
    "\n",
    "df.head()"
   ]
  },
  {
   "cell_type": "markdown",
   "id": "c35a7d01",
   "metadata": {
    "papermill": {
     "duration": 0.026334,
     "end_time": "2021-07-27T16:52:59.351807",
     "exception": false,
     "start_time": "2021-07-27T16:52:59.325473",
     "status": "completed"
    },
    "tags": []
   },
   "source": [
    "We've got 6407 examples in the dataset with 14 featues, 1 ID, and the `Severity` of the crash.\n",
    "\n",
    "By looking at the features and a sample from the data, the features look of numerical and catogerical types. What about some descriptive statistics?"
   ]
  },
  {
   "cell_type": "code",
   "execution_count": 3,
   "id": "7a402812",
   "metadata": {
    "execution": {
     "iopub.execute_input": "2021-07-27T16:52:59.424431Z",
     "iopub.status.busy": "2021-07-27T16:52:59.423923Z",
     "iopub.status.idle": "2021-07-27T16:52:59.433467Z",
     "shell.execute_reply": "2021-07-27T16:52:59.433004Z",
     "shell.execute_reply.started": "2021-07-27T16:50:26.125782Z"
    },
    "papermill": {
     "duration": 0.055132,
     "end_time": "2021-07-27T16:52:59.433578",
     "exception": false,
     "start_time": "2021-07-27T16:52:59.378446",
     "status": "completed"
    },
    "tags": []
   },
   "outputs": [],
   "source": [
    "df['date'] = pd.to_datetime(df['timestamp']).dt.date\n",
    "df['Time'] = pd.to_datetime(df['timestamp']).dt.time\n",
    "df['Year'] = pd.to_datetime(df['timestamp']).dt.year\n",
    "df['Month'] = pd.to_datetime(df['timestamp']).dt.month\n",
    "df['Day'] = pd.to_datetime(df['timestamp']).dt.day"
   ]
  },
  {
   "cell_type": "code",
   "execution_count": 4,
   "id": "1a8046b6",
   "metadata": {
    "execution": {
     "iopub.execute_input": "2021-07-27T16:52:59.490606Z",
     "iopub.status.busy": "2021-07-27T16:52:59.490104Z",
     "iopub.status.idle": "2021-07-27T16:52:59.497817Z",
     "shell.execute_reply": "2021-07-27T16:52:59.497409Z",
     "shell.execute_reply.started": "2021-07-27T16:50:26.161920Z"
    },
    "papermill": {
     "duration": 0.037802,
     "end_time": "2021-07-27T16:52:59.497931",
     "exception": false,
     "start_time": "2021-07-27T16:52:59.460129",
     "status": "completed"
    },
    "tags": []
   },
   "outputs": [],
   "source": [
    "df= df.drop(columns='ID')\n",
    "df=df.drop(columns='timestamp')"
   ]
  },
  {
   "cell_type": "code",
   "execution_count": 5,
   "id": "0d3a0322",
   "metadata": {
    "execution": {
     "iopub.execute_input": "2021-07-27T16:52:59.620805Z",
     "iopub.status.busy": "2021-07-27T16:52:59.620330Z",
     "iopub.status.idle": "2021-07-27T16:52:59.623443Z",
     "shell.execute_reply": "2021-07-27T16:52:59.622865Z",
     "shell.execute_reply.started": "2021-07-27T16:50:26.171350Z"
    },
    "papermill": {
     "duration": 0.098854,
     "end_time": "2021-07-27T16:52:59.623574",
     "exception": false,
     "start_time": "2021-07-27T16:52:59.524720",
     "status": "completed"
    },
    "tags": []
   },
   "outputs": [],
   "source": [
    "df['Bump'] = [int(d) for d in df['Bump']]\n",
    "df['Crossing'] = [int(d) for d in df['Crossing']]\n",
    "df['Give_Way'] = [int(d) for d in df['Give_Way']]\n",
    "df['Junction'] = [int(d) for d in df['Junction']]\n",
    "df['No_Exit'] = [int(d) for d in df['No_Exit']]\n",
    "df['Railway'] = [int(d) for d in df['Railway']]\n",
    "df['Roundabout'] = [int(d) for d in df['Roundabout']]\n",
    "df['Stop'] = [int(d) for d in df['Stop']]\n",
    "df['Amenity'] = [int(d) for d in df['Amenity']]\n",
    "df['Side'] = [x if x != \"L\" else 0 for x in df['Side']]\n",
    "df['Side'] = [x if x != \"R\" else 1 for x in df['Side']] \n"
   ]
  },
  {
   "cell_type": "code",
   "execution_count": 6,
   "id": "c4be40f7",
   "metadata": {
    "execution": {
     "iopub.execute_input": "2021-07-27T16:52:59.706735Z",
     "iopub.status.busy": "2021-07-27T16:52:59.706157Z",
     "iopub.status.idle": "2021-07-27T16:52:59.731915Z",
     "shell.execute_reply": "2021-07-27T16:52:59.731421Z",
     "shell.execute_reply.started": "2021-07-27T16:50:26.234763Z"
    },
    "papermill": {
     "duration": 0.068117,
     "end_time": "2021-07-27T16:52:59.732033",
     "exception": false,
     "start_time": "2021-07-27T16:52:59.663916",
     "status": "completed"
    },
    "tags": []
   },
   "outputs": [
    {
     "name": "stdout",
     "output_type": "stream",
     "text": [
      "The shape of the dataset is (6901, 12).\n",
      "\n",
      "\n"
     ]
    }
   ],
   "source": [
    "df1 = pd.read_csv(os.path.join(dataset_path, 'weather-sfcsv.csv'))\n",
    "\n",
    "print(\"The shape of the dataset is {}.\\n\\n\".format(df1.shape))\n",
    "df1=df1.drop_duplicates(['Year','Month','Day'],keep=\"last\")"
   ]
  },
  {
   "cell_type": "code",
   "execution_count": 7,
   "id": "0402d2f4",
   "metadata": {
    "execution": {
     "iopub.execute_input": "2021-07-27T16:52:59.793154Z",
     "iopub.status.busy": "2021-07-27T16:52:59.792426Z",
     "iopub.status.idle": "2021-07-27T16:52:59.803065Z",
     "shell.execute_reply": "2021-07-27T16:52:59.803636Z",
     "shell.execute_reply.started": "2021-07-27T16:50:26.268677Z"
    },
    "papermill": {
     "duration": 0.044258,
     "end_time": "2021-07-27T16:52:59.803804",
     "exception": false,
     "start_time": "2021-07-27T16:52:59.759546",
     "status": "completed"
    },
    "tags": []
   },
   "outputs": [],
   "source": [
    "import xml.etree.ElementTree as et\n",
    "xtree = et.parse(os.path.join(dataset_path, \"holidays.xml\"))\n",
    "xroot = xtree.getroot()\n",
    "df_cols = [\"date\", \"description\"]\n",
    "rows = []\n",
    "\n",
    "for node in xroot: \n",
    "    s_description = node.find(\"description\").text \n",
    "    s_date = node.find(\"date\").text \n",
    "    \n",
    "    \n",
    "    rows.append({\"description\": s_description, \"date\": s_date})\n",
    "\n",
    "df2 = pd.DataFrame(rows, columns = df_cols)\n",
    "df2['date'] = pd.to_datetime(df2['date']).dt.date"
   ]
  },
  {
   "cell_type": "code",
   "execution_count": 8,
   "id": "8e5f5e60",
   "metadata": {
    "execution": {
     "iopub.execute_input": "2021-07-27T16:52:59.892185Z",
     "iopub.status.busy": "2021-07-27T16:52:59.891563Z",
     "iopub.status.idle": "2021-07-27T16:52:59.903121Z",
     "shell.execute_reply": "2021-07-27T16:52:59.902575Z",
     "shell.execute_reply.started": "2021-07-27T16:50:26.281757Z"
    },
    "papermill": {
     "duration": 0.058503,
     "end_time": "2021-07-27T16:52:59.903284",
     "exception": false,
     "start_time": "2021-07-27T16:52:59.844781",
     "status": "completed"
    },
    "tags": []
   },
   "outputs": [],
   "source": [
    "df5=pd.merge(df,df2,on=\"date\",how=\"left\")\n"
   ]
  },
  {
   "cell_type": "code",
   "execution_count": 9,
   "id": "742941c9",
   "metadata": {
    "execution": {
     "iopub.execute_input": "2021-07-27T16:52:59.991120Z",
     "iopub.status.busy": "2021-07-27T16:52:59.990662Z",
     "iopub.status.idle": "2021-07-27T16:52:59.992942Z",
     "shell.execute_reply": "2021-07-27T16:52:59.992487Z",
     "shell.execute_reply.started": "2021-07-27T16:50:26.301235Z"
    },
    "papermill": {
     "duration": 0.049374,
     "end_time": "2021-07-27T16:52:59.993042",
     "exception": false,
     "start_time": "2021-07-27T16:52:59.943668",
     "status": "completed"
    },
    "tags": []
   },
   "outputs": [],
   "source": [
    "df5['description'] = [0 if x != \"\" else 1 for x in df5['description']]"
   ]
  },
  {
   "cell_type": "code",
   "execution_count": 10,
   "id": "b9dc0775",
   "metadata": {
    "execution": {
     "iopub.execute_input": "2021-07-27T16:53:00.054366Z",
     "iopub.status.busy": "2021-07-27T16:53:00.053335Z",
     "iopub.status.idle": "2021-07-27T16:53:00.065080Z",
     "shell.execute_reply": "2021-07-27T16:53:00.064671Z",
     "shell.execute_reply.started": "2021-07-27T16:50:26.313107Z"
    },
    "papermill": {
     "duration": 0.044808,
     "end_time": "2021-07-27T16:53:00.065183",
     "exception": false,
     "start_time": "2021-07-27T16:53:00.020375",
     "status": "completed"
    },
    "tags": []
   },
   "outputs": [],
   "source": [
    "df5=pd.merge(df5,df1,on=[\"Year\",\"Month\",\"Day\"],how=\"left\")"
   ]
  },
  {
   "cell_type": "code",
   "execution_count": 11,
   "id": "4f6160d6",
   "metadata": {
    "execution": {
     "iopub.execute_input": "2021-07-27T16:53:00.127691Z",
     "iopub.status.busy": "2021-07-27T16:53:00.127029Z",
     "iopub.status.idle": "2021-07-27T16:53:00.136764Z",
     "shell.execute_reply": "2021-07-27T16:53:00.136387Z",
     "shell.execute_reply.started": "2021-07-27T16:50:26.330896Z"
    },
    "papermill": {
     "duration": 0.044619,
     "end_time": "2021-07-27T16:53:00.136864",
     "exception": false,
     "start_time": "2021-07-27T16:53:00.092245",
     "status": "completed"
    },
    "tags": []
   },
   "outputs": [],
   "source": [
    "df5['Wind_Chill(F)'] = df5['Wind_Chill(F)'].fillna(np.mean(df5['Wind_Chill(F)']))\n",
    "df5['Precipitation(in)'] = df5['Precipitation(in)'].fillna(np.mean(df5['Precipitation(in)']))\n",
    "df5['Temperature(F)'] = df5['Temperature(F)'].fillna(np.mean(df5['Temperature(F)']))\n",
    "df5['Humidity(%)'] = df5['Humidity(%)'].fillna(np.mean(df5['Humidity(%)']))\n",
    "df5['Wind_Speed(mph)'] = df5['Wind_Speed(mph)'].fillna(np.mean(df5['Wind_Speed(mph)']))\n",
    "df5['Visibility(mi)'] = df5['Visibility(mi)'].fillna(np.mean(df5['Visibility(mi)']))\n",
    "df5['Weather_Condition'] = df5['Weather_Condition'].fillna(df5['Weather_Condition'].value_counts().index[0])"
   ]
  },
  {
   "cell_type": "code",
   "execution_count": 12,
   "id": "ab0c82d5",
   "metadata": {
    "execution": {
     "iopub.execute_input": "2021-07-27T16:53:00.196905Z",
     "iopub.status.busy": "2021-07-27T16:53:00.195070Z",
     "iopub.status.idle": "2021-07-27T16:53:00.205728Z",
     "shell.execute_reply": "2021-07-27T16:53:00.206217Z",
     "shell.execute_reply.started": "2021-07-27T16:50:26.345597Z"
    },
    "papermill": {
     "duration": 0.042902,
     "end_time": "2021-07-27T16:53:00.206390",
     "exception": false,
     "start_time": "2021-07-27T16:53:00.163488",
     "status": "completed"
    },
    "tags": []
   },
   "outputs": [],
   "source": [
    "WC=pd.get_dummies(df5['Weather_Condition'])\n",
    "df5 = pd.concat([df5, WC],axis=1)"
   ]
  },
  {
   "cell_type": "code",
   "execution_count": 13,
   "id": "dce14223",
   "metadata": {
    "execution": {
     "iopub.execute_input": "2021-07-27T16:53:00.293108Z",
     "iopub.status.busy": "2021-07-27T16:53:00.292470Z",
     "iopub.status.idle": "2021-07-27T16:53:00.298645Z",
     "shell.execute_reply": "2021-07-27T16:53:00.297967Z",
     "shell.execute_reply.started": "2021-07-27T16:50:26.364084Z"
    },
    "papermill": {
     "duration": 0.050913,
     "end_time": "2021-07-27T16:53:00.298778",
     "exception": false,
     "start_time": "2021-07-27T16:53:00.247865",
     "status": "completed"
    },
    "tags": []
   },
   "outputs": [],
   "source": [
    "df5 = df5.drop(columns=['Weather_Condition','date' , 'Time' , 'Selected'])"
   ]
  },
  {
   "cell_type": "code",
   "execution_count": 14,
   "id": "2ec78950",
   "metadata": {
    "execution": {
     "iopub.execute_input": "2021-07-27T16:53:00.387460Z",
     "iopub.status.busy": "2021-07-27T16:53:00.386801Z",
     "iopub.status.idle": "2021-07-27T16:54:33.174134Z",
     "shell.execute_reply": "2021-07-27T16:54:33.174596Z",
     "shell.execute_reply.started": "2021-07-27T16:50:26.373363Z"
    },
    "papermill": {
     "duration": 92.834783,
     "end_time": "2021-07-27T16:54:33.174736",
     "exception": false,
     "start_time": "2021-07-27T16:53:00.339953",
     "status": "completed"
    },
    "tags": []
   },
   "outputs": [
    {
     "name": "stdout",
     "output_type": "stream",
     "text": [
      "Iteration: \t1 / 100\n",
      "Confirmed: \t0\n",
      "Tentative: \t46\n",
      "Rejected: \t0\n",
      "Iteration: \t2 / 100\n",
      "Confirmed: \t0\n",
      "Tentative: \t46\n",
      "Rejected: \t0\n",
      "Iteration: \t3 / 100\n",
      "Confirmed: \t0\n",
      "Tentative: \t46\n",
      "Rejected: \t0\n",
      "Iteration: \t4 / 100\n",
      "Confirmed: \t0\n",
      "Tentative: \t46\n",
      "Rejected: \t0\n",
      "Iteration: \t5 / 100\n",
      "Confirmed: \t0\n",
      "Tentative: \t46\n",
      "Rejected: \t0\n",
      "Iteration: \t6 / 100\n",
      "Confirmed: \t0\n",
      "Tentative: \t46\n",
      "Rejected: \t0\n",
      "Iteration: \t7 / 100\n",
      "Confirmed: \t0\n",
      "Tentative: \t46\n",
      "Rejected: \t0\n",
      "Iteration: \t8 / 100\n",
      "Confirmed: \t14\n",
      "Tentative: \t7\n",
      "Rejected: \t25\n",
      "Iteration: \t9 / 100\n",
      "Confirmed: \t14\n",
      "Tentative: \t7\n",
      "Rejected: \t25\n",
      "Iteration: \t10 / 100\n",
      "Confirmed: \t14\n",
      "Tentative: \t7\n",
      "Rejected: \t25\n",
      "Iteration: \t11 / 100\n",
      "Confirmed: \t14\n",
      "Tentative: \t7\n",
      "Rejected: \t25\n",
      "Iteration: \t12 / 100\n",
      "Confirmed: \t15\n",
      "Tentative: \t6\n",
      "Rejected: \t25\n",
      "Iteration: \t13 / 100\n",
      "Confirmed: \t15\n",
      "Tentative: \t5\n",
      "Rejected: \t26\n",
      "Iteration: \t14 / 100\n",
      "Confirmed: \t15\n",
      "Tentative: \t5\n",
      "Rejected: \t26\n",
      "Iteration: \t15 / 100\n",
      "Confirmed: \t15\n",
      "Tentative: \t5\n",
      "Rejected: \t26\n",
      "Iteration: \t16 / 100\n",
      "Confirmed: \t15\n",
      "Tentative: \t5\n",
      "Rejected: \t26\n",
      "Iteration: \t17 / 100\n",
      "Confirmed: \t15\n",
      "Tentative: \t5\n",
      "Rejected: \t26\n",
      "Iteration: \t18 / 100\n",
      "Confirmed: \t15\n",
      "Tentative: \t5\n",
      "Rejected: \t26\n",
      "Iteration: \t19 / 100\n",
      "Confirmed: \t15\n",
      "Tentative: \t4\n",
      "Rejected: \t27\n",
      "Iteration: \t20 / 100\n",
      "Confirmed: \t15\n",
      "Tentative: \t4\n",
      "Rejected: \t27\n",
      "Iteration: \t21 / 100\n",
      "Confirmed: \t15\n",
      "Tentative: \t4\n",
      "Rejected: \t27\n",
      "Iteration: \t22 / 100\n",
      "Confirmed: \t15\n",
      "Tentative: \t3\n",
      "Rejected: \t28\n",
      "Iteration: \t23 / 100\n",
      "Confirmed: \t15\n",
      "Tentative: \t3\n",
      "Rejected: \t28\n",
      "Iteration: \t24 / 100\n",
      "Confirmed: \t15\n",
      "Tentative: \t3\n",
      "Rejected: \t28\n",
      "Iteration: \t25 / 100\n",
      "Confirmed: \t15\n",
      "Tentative: \t3\n",
      "Rejected: \t28\n",
      "Iteration: \t26 / 100\n",
      "Confirmed: \t15\n",
      "Tentative: \t3\n",
      "Rejected: \t28\n",
      "Iteration: \t27 / 100\n",
      "Confirmed: \t15\n",
      "Tentative: \t3\n",
      "Rejected: \t28\n",
      "Iteration: \t28 / 100\n",
      "Confirmed: \t15\n",
      "Tentative: \t3\n",
      "Rejected: \t28\n",
      "Iteration: \t29 / 100\n",
      "Confirmed: \t15\n",
      "Tentative: \t3\n",
      "Rejected: \t28\n",
      "Iteration: \t30 / 100\n",
      "Confirmed: \t15\n",
      "Tentative: \t3\n",
      "Rejected: \t28\n",
      "Iteration: \t31 / 100\n",
      "Confirmed: \t15\n",
      "Tentative: \t3\n",
      "Rejected: \t28\n",
      "Iteration: \t32 / 100\n",
      "Confirmed: \t15\n",
      "Tentative: \t3\n",
      "Rejected: \t28\n",
      "Iteration: \t33 / 100\n",
      "Confirmed: \t15\n",
      "Tentative: \t3\n",
      "Rejected: \t28\n",
      "Iteration: \t34 / 100\n",
      "Confirmed: \t15\n",
      "Tentative: \t3\n",
      "Rejected: \t28\n",
      "Iteration: \t35 / 100\n",
      "Confirmed: \t15\n",
      "Tentative: \t3\n",
      "Rejected: \t28\n",
      "Iteration: \t36 / 100\n",
      "Confirmed: \t15\n",
      "Tentative: \t3\n",
      "Rejected: \t28\n",
      "Iteration: \t37 / 100\n",
      "Confirmed: \t15\n",
      "Tentative: \t3\n",
      "Rejected: \t28\n",
      "Iteration: \t38 / 100\n",
      "Confirmed: \t15\n",
      "Tentative: \t3\n",
      "Rejected: \t28\n",
      "Iteration: \t39 / 100\n",
      "Confirmed: \t15\n",
      "Tentative: \t3\n",
      "Rejected: \t28\n",
      "Iteration: \t40 / 100\n",
      "Confirmed: \t15\n",
      "Tentative: \t3\n",
      "Rejected: \t28\n",
      "Iteration: \t41 / 100\n",
      "Confirmed: \t15\n",
      "Tentative: \t3\n",
      "Rejected: \t28\n",
      "Iteration: \t42 / 100\n",
      "Confirmed: \t15\n",
      "Tentative: \t3\n",
      "Rejected: \t28\n",
      "Iteration: \t43 / 100\n",
      "Confirmed: \t15\n",
      "Tentative: \t2\n",
      "Rejected: \t29\n",
      "Iteration: \t44 / 100\n",
      "Confirmed: \t15\n",
      "Tentative: \t2\n",
      "Rejected: \t29\n",
      "Iteration: \t45 / 100\n",
      "Confirmed: \t15\n",
      "Tentative: \t2\n",
      "Rejected: \t29\n",
      "Iteration: \t46 / 100\n",
      "Confirmed: \t15\n",
      "Tentative: \t2\n",
      "Rejected: \t29\n",
      "Iteration: \t47 / 100\n",
      "Confirmed: \t15\n",
      "Tentative: \t2\n",
      "Rejected: \t29\n",
      "Iteration: \t48 / 100\n",
      "Confirmed: \t15\n",
      "Tentative: \t2\n",
      "Rejected: \t29\n",
      "Iteration: \t49 / 100\n",
      "Confirmed: \t15\n",
      "Tentative: \t2\n",
      "Rejected: \t29\n",
      "Iteration: \t50 / 100\n",
      "Confirmed: \t15\n",
      "Tentative: \t2\n",
      "Rejected: \t29\n",
      "Iteration: \t51 / 100\n",
      "Confirmed: \t15\n",
      "Tentative: \t2\n",
      "Rejected: \t29\n",
      "Iteration: \t52 / 100\n",
      "Confirmed: \t15\n",
      "Tentative: \t2\n",
      "Rejected: \t29\n",
      "Iteration: \t53 / 100\n",
      "Confirmed: \t15\n",
      "Tentative: \t2\n",
      "Rejected: \t29\n",
      "Iteration: \t54 / 100\n",
      "Confirmed: \t15\n",
      "Tentative: \t2\n",
      "Rejected: \t29\n",
      "Iteration: \t55 / 100\n",
      "Confirmed: \t15\n",
      "Tentative: \t2\n",
      "Rejected: \t29\n",
      "Iteration: \t56 / 100\n",
      "Confirmed: \t15\n",
      "Tentative: \t2\n",
      "Rejected: \t29\n",
      "Iteration: \t57 / 100\n",
      "Confirmed: \t15\n",
      "Tentative: \t2\n",
      "Rejected: \t29\n",
      "Iteration: \t58 / 100\n",
      "Confirmed: \t15\n",
      "Tentative: \t2\n",
      "Rejected: \t29\n",
      "Iteration: \t59 / 100\n",
      "Confirmed: \t15\n",
      "Tentative: \t2\n",
      "Rejected: \t29\n",
      "Iteration: \t60 / 100\n",
      "Confirmed: \t15\n",
      "Tentative: \t2\n",
      "Rejected: \t29\n",
      "Iteration: \t61 / 100\n",
      "Confirmed: \t15\n",
      "Tentative: \t2\n",
      "Rejected: \t29\n",
      "Iteration: \t62 / 100\n",
      "Confirmed: \t15\n",
      "Tentative: \t2\n",
      "Rejected: \t29\n",
      "Iteration: \t63 / 100\n",
      "Confirmed: \t15\n",
      "Tentative: \t2\n",
      "Rejected: \t29\n",
      "Iteration: \t64 / 100\n",
      "Confirmed: \t15\n",
      "Tentative: \t2\n",
      "Rejected: \t29\n",
      "Iteration: \t65 / 100\n",
      "Confirmed: \t15\n",
      "Tentative: \t2\n",
      "Rejected: \t29\n",
      "Iteration: \t66 / 100\n",
      "Confirmed: \t15\n",
      "Tentative: \t2\n",
      "Rejected: \t29\n",
      "Iteration: \t67 / 100\n",
      "Confirmed: \t15\n",
      "Tentative: \t2\n",
      "Rejected: \t29\n",
      "Iteration: \t68 / 100\n",
      "Confirmed: \t15\n",
      "Tentative: \t2\n",
      "Rejected: \t29\n",
      "Iteration: \t69 / 100\n",
      "Confirmed: \t15\n",
      "Tentative: \t2\n",
      "Rejected: \t29\n",
      "Iteration: \t70 / 100\n",
      "Confirmed: \t15\n",
      "Tentative: \t2\n",
      "Rejected: \t29\n",
      "Iteration: \t71 / 100\n",
      "Confirmed: \t15\n",
      "Tentative: \t2\n",
      "Rejected: \t29\n",
      "Iteration: \t72 / 100\n",
      "Confirmed: \t15\n",
      "Tentative: \t2\n",
      "Rejected: \t29\n",
      "Iteration: \t73 / 100\n",
      "Confirmed: \t15\n",
      "Tentative: \t2\n",
      "Rejected: \t29\n",
      "Iteration: \t74 / 100\n",
      "Confirmed: \t15\n",
      "Tentative: \t2\n",
      "Rejected: \t29\n",
      "Iteration: \t75 / 100\n",
      "Confirmed: \t15\n",
      "Tentative: \t2\n",
      "Rejected: \t29\n",
      "Iteration: \t76 / 100\n",
      "Confirmed: \t15\n",
      "Tentative: \t2\n",
      "Rejected: \t29\n",
      "Iteration: \t77 / 100\n",
      "Confirmed: \t15\n",
      "Tentative: \t2\n",
      "Rejected: \t29\n",
      "Iteration: \t78 / 100\n",
      "Confirmed: \t15\n",
      "Tentative: \t2\n",
      "Rejected: \t29\n",
      "Iteration: \t79 / 100\n",
      "Confirmed: \t15\n",
      "Tentative: \t2\n",
      "Rejected: \t29\n",
      "Iteration: \t80 / 100\n",
      "Confirmed: \t15\n",
      "Tentative: \t2\n",
      "Rejected: \t29\n",
      "Iteration: \t81 / 100\n",
      "Confirmed: \t15\n",
      "Tentative: \t2\n",
      "Rejected: \t29\n",
      "Iteration: \t82 / 100\n",
      "Confirmed: \t15\n",
      "Tentative: \t2\n",
      "Rejected: \t29\n",
      "Iteration: \t83 / 100\n",
      "Confirmed: \t15\n",
      "Tentative: \t2\n",
      "Rejected: \t29\n",
      "Iteration: \t84 / 100\n",
      "Confirmed: \t15\n",
      "Tentative: \t2\n",
      "Rejected: \t29\n",
      "Iteration: \t85 / 100\n",
      "Confirmed: \t15\n",
      "Tentative: \t2\n",
      "Rejected: \t29\n",
      "Iteration: \t86 / 100\n",
      "Confirmed: \t15\n",
      "Tentative: \t2\n",
      "Rejected: \t29\n",
      "Iteration: \t87 / 100\n",
      "Confirmed: \t15\n",
      "Tentative: \t2\n",
      "Rejected: \t29\n",
      "Iteration: \t88 / 100\n",
      "Confirmed: \t15\n",
      "Tentative: \t2\n",
      "Rejected: \t29\n",
      "Iteration: \t89 / 100\n",
      "Confirmed: \t15\n",
      "Tentative: \t2\n",
      "Rejected: \t29\n",
      "Iteration: \t90 / 100\n",
      "Confirmed: \t15\n",
      "Tentative: \t2\n",
      "Rejected: \t29\n",
      "Iteration: \t91 / 100\n",
      "Confirmed: \t15\n",
      "Tentative: \t2\n",
      "Rejected: \t29\n",
      "Iteration: \t92 / 100\n",
      "Confirmed: \t15\n",
      "Tentative: \t2\n",
      "Rejected: \t29\n",
      "Iteration: \t93 / 100\n",
      "Confirmed: \t15\n",
      "Tentative: \t2\n",
      "Rejected: \t29\n",
      "Iteration: \t94 / 100\n",
      "Confirmed: \t15\n",
      "Tentative: \t2\n",
      "Rejected: \t29\n",
      "Iteration: \t95 / 100\n",
      "Confirmed: \t15\n",
      "Tentative: \t2\n",
      "Rejected: \t29\n",
      "Iteration: \t96 / 100\n",
      "Confirmed: \t15\n",
      "Tentative: \t2\n",
      "Rejected: \t29\n",
      "Iteration: \t97 / 100\n",
      "Confirmed: \t15\n",
      "Tentative: \t2\n",
      "Rejected: \t29\n",
      "Iteration: \t98 / 100\n",
      "Confirmed: \t15\n",
      "Tentative: \t2\n",
      "Rejected: \t29\n",
      "Iteration: \t99 / 100\n",
      "Confirmed: \t15\n",
      "Tentative: \t2\n",
      "Rejected: \t29\n",
      "\n",
      "\n",
      "BorutaPy finished running.\n",
      "\n",
      "Iteration: \t100 / 100\n",
      "Confirmed: \t15\n",
      "Tentative: \t2\n",
      "Rejected: \t29\n"
     ]
    },
    {
     "data": {
      "text/plain": [
       "BorutaPy(estimator=RandomForestClassifier(max_depth=2, n_estimators=291,\n",
       "                                          random_state=RandomState(MT19937) at 0x7F35574E56B0),\n",
       "         n_estimators='auto',\n",
       "         random_state=RandomState(MT19937) at 0x7F35574E56B0, verbose=2)"
      ]
     },
     "execution_count": 14,
     "metadata": {},
     "output_type": "execute_result"
    }
   ],
   "source": [
    "from sklearn.model_selection import train_test_split\n",
    "from boruta import BorutaPy\n",
    "\n",
    "train_df, val_df = train_test_split(df5, test_size=0.2, random_state=42) # Try adding `stratify` here\n",
    "\n",
    "X_train = train_df.drop(columns=['Severity'])\n",
    "y_train = train_df['Severity']\n",
    "\n",
    "X_val = val_df.drop(columns=['Severity'])\n",
    "y_val = val_df['Severity']\n",
    "\n",
    "from sklearn.ensemble import RandomForestClassifier\n",
    "\n",
    "# Create an instance of the classifier\n",
    "classifier = RandomForestClassifier(max_depth=2, random_state=0)\n",
    "\n",
    "br_sel = BorutaPy(classifier , n_estimators='auto' , verbose=2 , random_state=1)\n",
    "br_sel.fit(np.array(X_train),np.array(y_train))"
   ]
  },
  {
   "cell_type": "code",
   "execution_count": 15,
   "id": "841be6de",
   "metadata": {
    "execution": {
     "iopub.execute_input": "2021-07-27T16:54:33.285221Z",
     "iopub.status.busy": "2021-07-27T16:54:33.284535Z",
     "iopub.status.idle": "2021-07-27T16:54:33.289039Z",
     "shell.execute_reply": "2021-07-27T16:54:33.288543Z",
     "shell.execute_reply.started": "2021-07-27T16:52:13.134239Z"
    },
    "papermill": {
     "duration": 0.0605,
     "end_time": "2021-07-27T16:54:33.289144",
     "exception": false,
     "start_time": "2021-07-27T16:54:33.228644",
     "status": "completed"
    },
    "tags": []
   },
   "outputs": [
    {
     "name": "stdout",
     "output_type": "stream",
     "text": [
      "[ True  True False  True  True False False False False False  True  True\n",
      "  True  True  True False False False  True  True False  True  True False\n",
      " False False False  True False False False False False False False False\n",
      " False False False  True False False False False False False]\n"
     ]
    }
   ],
   "source": [
    "print(br_sel.support_)"
   ]
  },
  {
   "cell_type": "code",
   "execution_count": 16,
   "id": "8dd6fa7c",
   "metadata": {
    "execution": {
     "iopub.execute_input": "2021-07-27T16:54:33.400181Z",
     "iopub.status.busy": "2021-07-27T16:54:33.399543Z",
     "iopub.status.idle": "2021-07-27T16:54:33.405359Z",
     "shell.execute_reply": "2021-07-27T16:54:33.404725Z",
     "shell.execute_reply.started": "2021-07-27T16:52:13.141320Z"
    },
    "papermill": {
     "duration": 0.062221,
     "end_time": "2021-07-27T16:54:33.405495",
     "exception": false,
     "start_time": "2021-07-27T16:54:33.343274",
     "status": "completed"
    },
    "tags": []
   },
   "outputs": [
    {
     "name": "stdout",
     "output_type": "stream",
     "text": [
      "15\n"
     ]
    }
   ],
   "source": [
    "print(br_sel.n_features_)"
   ]
  },
  {
   "cell_type": "code",
   "execution_count": 17,
   "id": "95631346",
   "metadata": {
    "execution": {
     "iopub.execute_input": "2021-07-27T16:54:33.578587Z",
     "iopub.status.busy": "2021-07-27T16:54:33.577853Z",
     "iopub.status.idle": "2021-07-27T16:54:33.581626Z",
     "shell.execute_reply": "2021-07-27T16:54:33.581269Z",
     "shell.execute_reply.started": "2021-07-27T16:52:13.154435Z"
    },
    "papermill": {
     "duration": 0.095549,
     "end_time": "2021-07-27T16:54:33.581726",
     "exception": false,
     "start_time": "2021-07-27T16:54:33.486177",
     "status": "completed"
    },
    "tags": []
   },
   "outputs": [
    {
     "data": {
      "text/html": [
       "<div>\n",
       "<style scoped>\n",
       "    .dataframe tbody tr th:only-of-type {\n",
       "        vertical-align: middle;\n",
       "    }\n",
       "\n",
       "    .dataframe tbody tr th {\n",
       "        vertical-align: top;\n",
       "    }\n",
       "\n",
       "    .dataframe thead th {\n",
       "        text-align: right;\n",
       "    }\n",
       "</style>\n",
       "<table border=\"1\" class=\"dataframe\">\n",
       "  <thead>\n",
       "    <tr style=\"text-align: right;\">\n",
       "      <th></th>\n",
       "      <th>Fet</th>\n",
       "      <th>Ran</th>\n",
       "    </tr>\n",
       "  </thead>\n",
       "  <tbody>\n",
       "    <tr>\n",
       "      <th>0</th>\n",
       "      <td>Lat</td>\n",
       "      <td>1</td>\n",
       "    </tr>\n",
       "    <tr>\n",
       "      <th>39</th>\n",
       "      <td>Partly Cloudy</td>\n",
       "      <td>1</td>\n",
       "    </tr>\n",
       "    <tr>\n",
       "      <th>27</th>\n",
       "      <td>Fair</td>\n",
       "      <td>1</td>\n",
       "    </tr>\n",
       "    <tr>\n",
       "      <th>21</th>\n",
       "      <td>Humidity(%)</td>\n",
       "      <td>1</td>\n",
       "    </tr>\n",
       "    <tr>\n",
       "      <th>19</th>\n",
       "      <td>Precipitation(in)</td>\n",
       "      <td>1</td>\n",
       "    </tr>\n",
       "    <tr>\n",
       "      <th>18</th>\n",
       "      <td>Wind_Chill(F)</td>\n",
       "      <td>1</td>\n",
       "    </tr>\n",
       "    <tr>\n",
       "      <th>14</th>\n",
       "      <td>Month</td>\n",
       "      <td>1</td>\n",
       "    </tr>\n",
       "    <tr>\n",
       "      <th>13</th>\n",
       "      <td>Year</td>\n",
       "      <td>1</td>\n",
       "    </tr>\n",
       "    <tr>\n",
       "      <th>12</th>\n",
       "      <td>Side</td>\n",
       "      <td>1</td>\n",
       "    </tr>\n",
       "    <tr>\n",
       "      <th>11</th>\n",
       "      <td>Amenity</td>\n",
       "      <td>1</td>\n",
       "    </tr>\n",
       "    <tr>\n",
       "      <th>22</th>\n",
       "      <td>Wind_Speed(mph)</td>\n",
       "      <td>1</td>\n",
       "    </tr>\n",
       "    <tr>\n",
       "      <th>4</th>\n",
       "      <td>Crossing</td>\n",
       "      <td>1</td>\n",
       "    </tr>\n",
       "    <tr>\n",
       "      <th>3</th>\n",
       "      <td>Distance(mi)</td>\n",
       "      <td>1</td>\n",
       "    </tr>\n",
       "    <tr>\n",
       "      <th>10</th>\n",
       "      <td>Stop</td>\n",
       "      <td>1</td>\n",
       "    </tr>\n",
       "    <tr>\n",
       "      <th>1</th>\n",
       "      <td>Lng</td>\n",
       "      <td>1</td>\n",
       "    </tr>\n",
       "    <tr>\n",
       "      <th>43</th>\n",
       "      <td>Scattered Clouds</td>\n",
       "      <td>2</td>\n",
       "    </tr>\n",
       "    <tr>\n",
       "      <th>20</th>\n",
       "      <td>Temperature(F)</td>\n",
       "      <td>2</td>\n",
       "    </tr>\n",
       "    <tr>\n",
       "      <th>8</th>\n",
       "      <td>Railway</td>\n",
       "      <td>3</td>\n",
       "    </tr>\n",
       "    <tr>\n",
       "      <th>24</th>\n",
       "      <td>Clear</td>\n",
       "      <td>4</td>\n",
       "    </tr>\n",
       "    <tr>\n",
       "      <th>6</th>\n",
       "      <td>Junction</td>\n",
       "      <td>5</td>\n",
       "    </tr>\n",
       "    <tr>\n",
       "      <th>23</th>\n",
       "      <td>Visibility(mi)</td>\n",
       "      <td>5</td>\n",
       "    </tr>\n",
       "    <tr>\n",
       "      <th>17</th>\n",
       "      <td>Hour</td>\n",
       "      <td>7</td>\n",
       "    </tr>\n",
       "    <tr>\n",
       "      <th>44</th>\n",
       "      <td>Shallow Fog</td>\n",
       "      <td>7</td>\n",
       "    </tr>\n",
       "    <tr>\n",
       "      <th>33</th>\n",
       "      <td>Light Rain</td>\n",
       "      <td>9</td>\n",
       "    </tr>\n",
       "    <tr>\n",
       "      <th>25</th>\n",
       "      <td>Cloudy</td>\n",
       "      <td>10</td>\n",
       "    </tr>\n",
       "    <tr>\n",
       "      <th>15</th>\n",
       "      <td>Day</td>\n",
       "      <td>11</td>\n",
       "    </tr>\n",
       "    <tr>\n",
       "      <th>38</th>\n",
       "      <td>Overcast</td>\n",
       "      <td>12</td>\n",
       "    </tr>\n",
       "    <tr>\n",
       "      <th>29</th>\n",
       "      <td>Fog</td>\n",
       "      <td>13</td>\n",
       "    </tr>\n",
       "    <tr>\n",
       "      <th>36</th>\n",
       "      <td>Mostly Cloudy</td>\n",
       "      <td>14</td>\n",
       "    </tr>\n",
       "    <tr>\n",
       "      <th>28</th>\n",
       "      <td>Fair / Windy</td>\n",
       "      <td>15</td>\n",
       "    </tr>\n",
       "    <tr>\n",
       "      <th>40</th>\n",
       "      <td>Partly Cloudy / Windy</td>\n",
       "      <td>16</td>\n",
       "    </tr>\n",
       "    <tr>\n",
       "      <th>34</th>\n",
       "      <td>Light Rain / Windy</td>\n",
       "      <td>17</td>\n",
       "    </tr>\n",
       "    <tr>\n",
       "      <th>37</th>\n",
       "      <td>Mostly Cloudy / Windy</td>\n",
       "      <td>18</td>\n",
       "    </tr>\n",
       "    <tr>\n",
       "      <th>30</th>\n",
       "      <td>Haze</td>\n",
       "      <td>19</td>\n",
       "    </tr>\n",
       "    <tr>\n",
       "      <th>41</th>\n",
       "      <td>Patches of Fog</td>\n",
       "      <td>19</td>\n",
       "    </tr>\n",
       "    <tr>\n",
       "      <th>42</th>\n",
       "      <td>Rain</td>\n",
       "      <td>21</td>\n",
       "    </tr>\n",
       "    <tr>\n",
       "      <th>45</th>\n",
       "      <td>Smoke</td>\n",
       "      <td>22</td>\n",
       "    </tr>\n",
       "    <tr>\n",
       "      <th>31</th>\n",
       "      <td>Heavy Rain</td>\n",
       "      <td>23</td>\n",
       "    </tr>\n",
       "    <tr>\n",
       "      <th>32</th>\n",
       "      <td>Light Drizzle</td>\n",
       "      <td>25</td>\n",
       "    </tr>\n",
       "    <tr>\n",
       "      <th>26</th>\n",
       "      <td>Cloudy / Windy</td>\n",
       "      <td>25</td>\n",
       "    </tr>\n",
       "    <tr>\n",
       "      <th>5</th>\n",
       "      <td>Give_Way</td>\n",
       "      <td>25</td>\n",
       "    </tr>\n",
       "    <tr>\n",
       "      <th>2</th>\n",
       "      <td>Bump</td>\n",
       "      <td>29</td>\n",
       "    </tr>\n",
       "    <tr>\n",
       "      <th>16</th>\n",
       "      <td>description</td>\n",
       "      <td>29</td>\n",
       "    </tr>\n",
       "    <tr>\n",
       "      <th>7</th>\n",
       "      <td>No_Exit</td>\n",
       "      <td>29</td>\n",
       "    </tr>\n",
       "    <tr>\n",
       "      <th>35</th>\n",
       "      <td>Mist</td>\n",
       "      <td>29</td>\n",
       "    </tr>\n",
       "    <tr>\n",
       "      <th>9</th>\n",
       "      <td>Roundabout</td>\n",
       "      <td>29</td>\n",
       "    </tr>\n",
       "  </tbody>\n",
       "</table>\n",
       "</div>"
      ],
      "text/plain": [
       "                      Fet  Ran\n",
       "0                     Lat    1\n",
       "39          Partly Cloudy    1\n",
       "27                   Fair    1\n",
       "21            Humidity(%)    1\n",
       "19      Precipitation(in)    1\n",
       "18          Wind_Chill(F)    1\n",
       "14                  Month    1\n",
       "13                   Year    1\n",
       "12                   Side    1\n",
       "11                Amenity    1\n",
       "22        Wind_Speed(mph)    1\n",
       "4                Crossing    1\n",
       "3            Distance(mi)    1\n",
       "10                   Stop    1\n",
       "1                     Lng    1\n",
       "43       Scattered Clouds    2\n",
       "20         Temperature(F)    2\n",
       "8                 Railway    3\n",
       "24                  Clear    4\n",
       "6                Junction    5\n",
       "23         Visibility(mi)    5\n",
       "17                   Hour    7\n",
       "44            Shallow Fog    7\n",
       "33             Light Rain    9\n",
       "25                 Cloudy   10\n",
       "15                    Day   11\n",
       "38               Overcast   12\n",
       "29                    Fog   13\n",
       "36          Mostly Cloudy   14\n",
       "28           Fair / Windy   15\n",
       "40  Partly Cloudy / Windy   16\n",
       "34     Light Rain / Windy   17\n",
       "37  Mostly Cloudy / Windy   18\n",
       "30                   Haze   19\n",
       "41         Patches of Fog   19\n",
       "42                   Rain   21\n",
       "45                  Smoke   22\n",
       "31             Heavy Rain   23\n",
       "32          Light Drizzle   25\n",
       "26         Cloudy / Windy   25\n",
       "5                Give_Way   25\n",
       "2                    Bump   29\n",
       "16            description   29\n",
       "7                 No_Exit   29\n",
       "35                   Mist   29\n",
       "9              Roundabout   29"
      ]
     },
     "execution_count": 17,
     "metadata": {},
     "output_type": "execute_result"
    }
   ],
   "source": [
    "sel_fe = pd.DataFrame({'Fet':list(X_train.columns),\"Ran\":br_sel.ranking_})\n",
    "sel_fe.sort_values(by=\"Ran\")"
   ]
  },
  {
   "cell_type": "code",
   "execution_count": null,
   "id": "048266be",
   "metadata": {
    "papermill": {
     "duration": 0.0528,
     "end_time": "2021-07-27T16:54:33.687634",
     "exception": false,
     "start_time": "2021-07-27T16:54:33.634834",
     "status": "completed"
    },
    "tags": []
   },
   "outputs": [],
   "source": []
  },
  {
   "cell_type": "markdown",
   "id": "41f5016e",
   "metadata": {
    "papermill": {
     "duration": 0.054441,
     "end_time": "2021-07-27T16:54:33.796301",
     "exception": false,
     "start_time": "2021-07-27T16:54:33.741860",
     "status": "completed"
    },
    "tags": []
   },
   "source": [
    "The output shows desciptive statistics for the numerical features, `Lat`, `Lng`, `Distance(mi)`, and `Severity`. I'll use the numerical features to demonstrate how to train the model and make submissions. **However you shouldn't use the numerical features only to make the final submission if you want to make it to the top of the leaderboard.**"
   ]
  },
  {
   "cell_type": "markdown",
   "id": "f101839e",
   "metadata": {
    "papermill": {
     "duration": 0.05356,
     "end_time": "2021-07-27T16:54:33.903454",
     "exception": false,
     "start_time": "2021-07-27T16:54:33.849894",
     "status": "completed"
    },
    "tags": []
   },
   "source": [
    "## Data Splitting\n",
    "\n",
    "Now it's time to split the dataset for the training step. Typically the dataset is split into 3 subsets, namely, the training, validation and test sets. In our case, the test set is already predefined. So we'll split the \"training\" set into training and validation sets with 0.8:0.2 ratio. \n",
    "\n",
    "*Note: a good way to generate reproducible results is to set the seed to the algorithms that depends on randomization. This is done with the argument `random_state` in the following command* "
   ]
  },
  {
   "cell_type": "code",
   "execution_count": 18,
   "id": "00bbf7f3",
   "metadata": {
    "execution": {
     "iopub.execute_input": "2021-07-27T16:54:34.017408Z",
     "iopub.status.busy": "2021-07-27T16:54:34.016908Z",
     "iopub.status.idle": "2021-07-27T16:54:34.018379Z",
     "shell.execute_reply": "2021-07-27T16:54:34.018825Z",
     "shell.execute_reply.started": "2021-07-27T16:52:13.180194Z"
    },
    "papermill": {
     "duration": 0.062352,
     "end_time": "2021-07-27T16:54:34.018958",
     "exception": false,
     "start_time": "2021-07-27T16:54:33.956606",
     "status": "completed"
    },
    "tags": []
   },
   "outputs": [],
   "source": [
    "X_train = X_train[['Lat','Lng','Partly Cloudy','Distance(mi)','Crossing','Fair','Wind_Speed(mph)','Humidity(%)','Precipitation(in)','Stop','Amenity','Side','Year','Month','Wind_Chill(F)']]\n",
    "X_val = X_val[['Lat','Lng','Partly Cloudy','Distance(mi)','Crossing','Fair','Wind_Speed(mph)','Humidity(%)','Precipitation(in)','Stop','Amenity','Side','Year','Month','Wind_Chill(F)']]\n"
   ]
  },
  {
   "cell_type": "markdown",
   "id": "5bd85f2b",
   "metadata": {
    "papermill": {
     "duration": 0.052592,
     "end_time": "2021-07-27T16:54:34.125531",
     "exception": false,
     "start_time": "2021-07-27T16:54:34.072939",
     "status": "completed"
    },
    "tags": []
   },
   "source": [
    "As pointed out eariler, I'll use the numerical features to train the classifier. **However, you shouldn't use the numerical features only to make the final submission if you want to make it to the top of the leaderboard.** "
   ]
  },
  {
   "cell_type": "markdown",
   "id": "9d00786a",
   "metadata": {
    "papermill": {
     "duration": 0.052854,
     "end_time": "2021-07-27T16:54:34.231592",
     "exception": false,
     "start_time": "2021-07-27T16:54:34.178738",
     "status": "completed"
    },
    "tags": []
   },
   "source": [
    "## Model Training\n",
    "\n",
    "Let's train a model with the data! We'll train a Random Forest Classifier to demonstrate the process of making submissions. "
   ]
  },
  {
   "cell_type": "code",
   "execution_count": 19,
   "id": "a7bb0043",
   "metadata": {
    "execution": {
     "iopub.execute_input": "2021-07-27T16:54:34.340045Z",
     "iopub.status.busy": "2021-07-27T16:54:34.339595Z",
     "iopub.status.idle": "2021-07-27T16:54:35.071511Z",
     "shell.execute_reply": "2021-07-27T16:54:35.071885Z",
     "shell.execute_reply.started": "2021-07-27T16:52:13.193361Z"
    },
    "papermill": {
     "duration": 0.787302,
     "end_time": "2021-07-27T16:54:35.072018",
     "exception": false,
     "start_time": "2021-07-27T16:54:34.284716",
     "status": "completed"
    },
    "tags": []
   },
   "outputs": [
    {
     "name": "stdout",
     "output_type": "stream",
     "text": [
      "The accuracy of the classifier on the validation set is  0.7472698907956318\n"
     ]
    }
   ],
   "source": [
    "classifier = classifier.fit(X_train, y_train)\n",
    "print(\"The accuracy of the classifier on the validation set is \", (classifier.score(X_val, y_val)))"
   ]
  },
  {
   "cell_type": "markdown",
   "id": "4b2b135b",
   "metadata": {
    "papermill": {
     "duration": 0.053847,
     "end_time": "2021-07-27T16:54:35.178997",
     "exception": false,
     "start_time": "2021-07-27T16:54:35.125150",
     "status": "completed"
    },
    "tags": []
   },
   "source": [
    "Now let's test our classifier on the validation dataset and see the accuracy."
   ]
  },
  {
   "cell_type": "markdown",
   "id": "a7c29dc1",
   "metadata": {
    "papermill": {
     "duration": 0.053243,
     "end_time": "2021-07-27T16:54:35.285215",
     "exception": false,
     "start_time": "2021-07-27T16:54:35.231972",
     "status": "completed"
    },
    "tags": []
   },
   "source": [
    "Well. That's a good start, right? A classifier that predicts all examples' `Severity` as 2 will get around 0.63. You should get better score as you add more features and do better data preprocessing."
   ]
  },
  {
   "cell_type": "markdown",
   "id": "89aedfec",
   "metadata": {
    "papermill": {
     "duration": 0.053362,
     "end_time": "2021-07-27T16:54:35.391978",
     "exception": false,
     "start_time": "2021-07-27T16:54:35.338616",
     "status": "completed"
    },
    "tags": []
   },
   "source": [
    "## Submission File Generation\n",
    "\n",
    "We have built a model and we'd like to submit our predictions on the test set! In order to do that, we'll load the test set, predict the class and save the submission file. \n",
    "\n",
    "First, we'll load the data."
   ]
  },
  {
   "cell_type": "code",
   "execution_count": 20,
   "id": "000cc38f",
   "metadata": {
    "execution": {
     "iopub.execute_input": "2021-07-27T16:54:35.502119Z",
     "iopub.status.busy": "2021-07-27T16:54:35.501671Z",
     "iopub.status.idle": "2021-07-27T16:54:35.536917Z",
     "shell.execute_reply": "2021-07-27T16:54:35.536539Z",
     "shell.execute_reply.started": "2021-07-27T16:52:14.109966Z"
    },
    "papermill": {
     "duration": 0.092424,
     "end_time": "2021-07-27T16:54:35.537019",
     "exception": false,
     "start_time": "2021-07-27T16:54:35.444595",
     "status": "completed"
    },
    "tags": []
   },
   "outputs": [
    {
     "data": {
      "text/html": [
       "<div>\n",
       "<style scoped>\n",
       "    .dataframe tbody tr th:only-of-type {\n",
       "        vertical-align: middle;\n",
       "    }\n",
       "\n",
       "    .dataframe tbody tr th {\n",
       "        vertical-align: top;\n",
       "    }\n",
       "\n",
       "    .dataframe thead th {\n",
       "        text-align: right;\n",
       "    }\n",
       "</style>\n",
       "<table border=\"1\" class=\"dataframe\">\n",
       "  <thead>\n",
       "    <tr style=\"text-align: right;\">\n",
       "      <th></th>\n",
       "      <th>ID</th>\n",
       "      <th>Lat</th>\n",
       "      <th>Lng</th>\n",
       "      <th>Bump</th>\n",
       "      <th>Distance(mi)</th>\n",
       "      <th>Crossing</th>\n",
       "      <th>Give_Way</th>\n",
       "      <th>Junction</th>\n",
       "      <th>No_Exit</th>\n",
       "      <th>Railway</th>\n",
       "      <th>Roundabout</th>\n",
       "      <th>Stop</th>\n",
       "      <th>Amenity</th>\n",
       "      <th>Side</th>\n",
       "      <th>timestamp</th>\n",
       "    </tr>\n",
       "  </thead>\n",
       "  <tbody>\n",
       "    <tr>\n",
       "      <th>0</th>\n",
       "      <td>6407</td>\n",
       "      <td>37.786060</td>\n",
       "      <td>-122.390900</td>\n",
       "      <td>False</td>\n",
       "      <td>0.039</td>\n",
       "      <td>False</td>\n",
       "      <td>False</td>\n",
       "      <td>True</td>\n",
       "      <td>False</td>\n",
       "      <td>False</td>\n",
       "      <td>False</td>\n",
       "      <td>False</td>\n",
       "      <td>False</td>\n",
       "      <td>R</td>\n",
       "      <td>2016-04-04 19:20:31</td>\n",
       "    </tr>\n",
       "    <tr>\n",
       "      <th>1</th>\n",
       "      <td>6408</td>\n",
       "      <td>37.769609</td>\n",
       "      <td>-122.415057</td>\n",
       "      <td>False</td>\n",
       "      <td>0.202</td>\n",
       "      <td>False</td>\n",
       "      <td>False</td>\n",
       "      <td>False</td>\n",
       "      <td>False</td>\n",
       "      <td>False</td>\n",
       "      <td>False</td>\n",
       "      <td>False</td>\n",
       "      <td>False</td>\n",
       "      <td>R</td>\n",
       "      <td>2020-10-28 11:51:00</td>\n",
       "    </tr>\n",
       "    <tr>\n",
       "      <th>2</th>\n",
       "      <td>6409</td>\n",
       "      <td>37.807495</td>\n",
       "      <td>-122.476021</td>\n",
       "      <td>False</td>\n",
       "      <td>0.000</td>\n",
       "      <td>False</td>\n",
       "      <td>False</td>\n",
       "      <td>False</td>\n",
       "      <td>False</td>\n",
       "      <td>False</td>\n",
       "      <td>False</td>\n",
       "      <td>False</td>\n",
       "      <td>False</td>\n",
       "      <td>R</td>\n",
       "      <td>2019-09-09 07:36:45</td>\n",
       "    </tr>\n",
       "    <tr>\n",
       "      <th>3</th>\n",
       "      <td>6410</td>\n",
       "      <td>37.761818</td>\n",
       "      <td>-122.405869</td>\n",
       "      <td>False</td>\n",
       "      <td>0.000</td>\n",
       "      <td>False</td>\n",
       "      <td>False</td>\n",
       "      <td>True</td>\n",
       "      <td>False</td>\n",
       "      <td>False</td>\n",
       "      <td>False</td>\n",
       "      <td>False</td>\n",
       "      <td>False</td>\n",
       "      <td>R</td>\n",
       "      <td>2019-08-06 15:46:25</td>\n",
       "    </tr>\n",
       "    <tr>\n",
       "      <th>4</th>\n",
       "      <td>6411</td>\n",
       "      <td>37.732350</td>\n",
       "      <td>-122.414100</td>\n",
       "      <td>False</td>\n",
       "      <td>0.670</td>\n",
       "      <td>False</td>\n",
       "      <td>False</td>\n",
       "      <td>False</td>\n",
       "      <td>False</td>\n",
       "      <td>False</td>\n",
       "      <td>False</td>\n",
       "      <td>False</td>\n",
       "      <td>False</td>\n",
       "      <td>R</td>\n",
       "      <td>2018-10-17 09:54:58</td>\n",
       "    </tr>\n",
       "  </tbody>\n",
       "</table>\n",
       "</div>"
      ],
      "text/plain": [
       "     ID        Lat         Lng   Bump  Distance(mi)  Crossing  Give_Way  \\\n",
       "0  6407  37.786060 -122.390900  False         0.039     False     False   \n",
       "1  6408  37.769609 -122.415057  False         0.202     False     False   \n",
       "2  6409  37.807495 -122.476021  False         0.000     False     False   \n",
       "3  6410  37.761818 -122.405869  False         0.000     False     False   \n",
       "4  6411  37.732350 -122.414100  False         0.670     False     False   \n",
       "\n",
       "   Junction  No_Exit  Railway  Roundabout   Stop  Amenity Side  \\\n",
       "0      True    False    False       False  False    False    R   \n",
       "1     False    False    False       False  False    False    R   \n",
       "2     False    False    False       False  False    False    R   \n",
       "3      True    False    False       False  False    False    R   \n",
       "4     False    False    False       False  False    False    R   \n",
       "\n",
       "             timestamp  \n",
       "0  2016-04-04 19:20:31  \n",
       "1  2020-10-28 11:51:00  \n",
       "2  2019-09-09 07:36:45  \n",
       "3  2019-08-06 15:46:25  \n",
       "4  2018-10-17 09:54:58  "
      ]
     },
     "execution_count": 20,
     "metadata": {},
     "output_type": "execute_result"
    }
   ],
   "source": [
    "test_df = pd.read_csv(os.path.join(dataset_path, 'test.csv'))\n",
    "test_df.head()"
   ]
  },
  {
   "cell_type": "markdown",
   "id": "ad8a4d86",
   "metadata": {
    "papermill": {
     "duration": 0.053247,
     "end_time": "2021-07-27T16:54:35.643872",
     "exception": false,
     "start_time": "2021-07-27T16:54:35.590625",
     "status": "completed"
    },
    "tags": []
   },
   "source": [
    "Note that the test set has the same features and doesn't have the `Severity` column.\n",
    "At this stage one must **NOT** forget to apply the same processing done on the training set on the features of the test set.\n",
    "\n",
    "Now we'll add `Severity` column to the test `DataFrame` and add the values of the predicted class to it.\n",
    "\n",
    "**I'll select the numerical features here as I did in the training set. DO NOT forget to change this step as you change the preprocessing of the training data.**"
   ]
  },
  {
   "cell_type": "code",
   "execution_count": 21,
   "id": "58a58a05",
   "metadata": {
    "execution": {
     "iopub.execute_input": "2021-07-27T16:54:35.761085Z",
     "iopub.status.busy": "2021-07-27T16:54:35.759702Z",
     "iopub.status.idle": "2021-07-27T16:54:35.766251Z",
     "shell.execute_reply": "2021-07-27T16:54:35.765763Z",
     "shell.execute_reply.started": "2021-07-27T16:52:14.142727Z"
    },
    "papermill": {
     "duration": 0.069065,
     "end_time": "2021-07-27T16:54:35.766360",
     "exception": false,
     "start_time": "2021-07-27T16:54:35.697295",
     "status": "completed"
    },
    "tags": []
   },
   "outputs": [],
   "source": [
    "test_df['date'] = pd.to_datetime(test_df['timestamp']).dt.date\n",
    "test_df['Time'] = pd.to_datetime(test_df['timestamp']).dt.time\n",
    "test_df['Year'] = pd.to_datetime(test_df['timestamp']).dt.year\n",
    "test_df['Month'] = pd.to_datetime(test_df['timestamp']).dt.month\n",
    "test_df['Day'] = pd.to_datetime(test_df['timestamp']).dt.day"
   ]
  },
  {
   "cell_type": "code",
   "execution_count": 22,
   "id": "d08b382f",
   "metadata": {
    "execution": {
     "iopub.execute_input": "2021-07-27T16:54:35.880806Z",
     "iopub.status.busy": "2021-07-27T16:54:35.880373Z",
     "iopub.status.idle": "2021-07-27T16:54:35.883174Z",
     "shell.execute_reply": "2021-07-27T16:54:35.882691Z",
     "shell.execute_reply.started": "2021-07-27T16:52:14.162463Z"
    },
    "papermill": {
     "duration": 0.062555,
     "end_time": "2021-07-27T16:54:35.883325",
     "exception": false,
     "start_time": "2021-07-27T16:54:35.820770",
     "status": "completed"
    },
    "tags": []
   },
   "outputs": [],
   "source": [
    "test_df=test_df.drop(columns='timestamp')"
   ]
  },
  {
   "cell_type": "code",
   "execution_count": 23,
   "id": "9da1aabe",
   "metadata": {
    "execution": {
     "iopub.execute_input": "2021-07-27T16:54:36.063902Z",
     "iopub.status.busy": "2021-07-27T16:54:36.060874Z",
     "iopub.status.idle": "2021-07-27T16:54:36.066016Z",
     "shell.execute_reply": "2021-07-27T16:54:36.066398Z",
     "shell.execute_reply.started": "2021-07-27T16:52:14.173698Z"
    },
    "papermill": {
     "duration": 0.102221,
     "end_time": "2021-07-27T16:54:36.066540",
     "exception": false,
     "start_time": "2021-07-27T16:54:35.964319",
     "status": "completed"
    },
    "tags": []
   },
   "outputs": [],
   "source": [
    "test_df['Bump'] = [int(d) for d in test_df['Bump']]\n",
    "test_df['Crossing'] = [int(d) for d in test_df['Crossing']]\n",
    "test_df['Give_Way'] = [int(d) for d in test_df['Give_Way']]\n",
    "test_df['Junction'] = [int(d) for d in test_df['Junction']]\n",
    "test_df['No_Exit'] = [int(d) for d in test_df['No_Exit']]\n",
    "test_df['Railway'] = [int(d) for d in test_df['Railway']]\n",
    "test_df['Roundabout'] = [int(d) for d in test_df['Roundabout']]\n",
    "test_df['Stop'] = [int(d) for d in test_df['Stop']]\n",
    "test_df['Amenity'] = [int(d) for d in test_df['Amenity']]\n",
    "test_df['Side'] = [x if x != \"L\" else 0 for x in test_df['Side']]\n",
    "test_df['Side'] = [x if x != \"R\" else 1 for x in test_df['Side']] \n"
   ]
  },
  {
   "cell_type": "code",
   "execution_count": 24,
   "id": "335b7c2c",
   "metadata": {
    "execution": {
     "iopub.execute_input": "2021-07-27T16:54:36.176172Z",
     "iopub.status.busy": "2021-07-27T16:54:36.175742Z",
     "iopub.status.idle": "2021-07-27T16:54:36.186378Z",
     "shell.execute_reply": "2021-07-27T16:54:36.185880Z",
     "shell.execute_reply.started": "2021-07-27T16:52:14.203818Z"
    },
    "papermill": {
     "duration": 0.065973,
     "end_time": "2021-07-27T16:54:36.186478",
     "exception": false,
     "start_time": "2021-07-27T16:54:36.120505",
     "status": "completed"
    },
    "tags": []
   },
   "outputs": [],
   "source": [
    "test_df5=pd.merge(test_df,df2,on=\"date\",how=\"left\")\n",
    "test_df5['description'] = [0 if x != \"\" else 1 for x in test_df5['description']]"
   ]
  },
  {
   "cell_type": "code",
   "execution_count": 25,
   "id": "3cad1b9e",
   "metadata": {
    "execution": {
     "iopub.execute_input": "2021-07-27T16:54:36.300544Z",
     "iopub.status.busy": "2021-07-27T16:54:36.300057Z",
     "iopub.status.idle": "2021-07-27T16:54:36.308687Z",
     "shell.execute_reply": "2021-07-27T16:54:36.308292Z",
     "shell.execute_reply.started": "2021-07-27T16:52:14.226163Z"
    },
    "papermill": {
     "duration": 0.068739,
     "end_time": "2021-07-27T16:54:36.308796",
     "exception": false,
     "start_time": "2021-07-27T16:54:36.240057",
     "status": "completed"
    },
    "tags": []
   },
   "outputs": [],
   "source": [
    "test_df5=pd.merge(test_df5,df1,on=[\"Year\",\"Month\",\"Day\"],how=\"left\")"
   ]
  },
  {
   "cell_type": "code",
   "execution_count": 26,
   "id": "facdab7a",
   "metadata": {
    "execution": {
     "iopub.execute_input": "2021-07-27T16:54:36.428651Z",
     "iopub.status.busy": "2021-07-27T16:54:36.428045Z",
     "iopub.status.idle": "2021-07-27T16:54:36.430726Z",
     "shell.execute_reply": "2021-07-27T16:54:36.430266Z",
     "shell.execute_reply.started": "2021-07-27T16:52:14.242662Z"
    },
    "papermill": {
     "duration": 0.067469,
     "end_time": "2021-07-27T16:54:36.430841",
     "exception": false,
     "start_time": "2021-07-27T16:54:36.363372",
     "status": "completed"
    },
    "tags": []
   },
   "outputs": [],
   "source": [
    "test_df5['Wind_Chill(F)'] = test_df5['Wind_Chill(F)'].fillna(np.mean(test_df5['Wind_Chill(F)']))\n",
    "test_df5['Precipitation(in)'] = test_df5['Precipitation(in)'].fillna(np.mean(test_df5['Precipitation(in)']))\n",
    "test_df5['Temperature(F)'] = test_df5['Temperature(F)'].fillna(np.mean(test_df5['Temperature(F)']))\n",
    "test_df5['Humidity(%)'] = test_df5['Humidity(%)'].fillna(np.mean(test_df5['Humidity(%)']))\n",
    "test_df5['Wind_Speed(mph)'] = test_df5['Wind_Speed(mph)'].fillna(np.mean(test_df5['Wind_Speed(mph)']))\n",
    "test_df5['Visibility(mi)'] = test_df5['Visibility(mi)'].fillna(np.mean(test_df5['Visibility(mi)']))"
   ]
  },
  {
   "cell_type": "code",
   "execution_count": 27,
   "id": "e46840ad",
   "metadata": {
    "execution": {
     "iopub.execute_input": "2021-07-27T16:54:36.548540Z",
     "iopub.status.busy": "2021-07-27T16:54:36.547987Z",
     "iopub.status.idle": "2021-07-27T16:54:36.550677Z",
     "shell.execute_reply": "2021-07-27T16:54:36.550231Z",
     "shell.execute_reply.started": "2021-07-27T16:52:14.256467Z"
    },
    "papermill": {
     "duration": 0.064125,
     "end_time": "2021-07-27T16:54:36.550787",
     "exception": false,
     "start_time": "2021-07-27T16:54:36.486662",
     "status": "completed"
    },
    "tags": []
   },
   "outputs": [],
   "source": [
    "test_df5['Weather_Condition'] = test_df5['Weather_Condition'].fillna(test_df5['Weather_Condition'].value_counts().index[0])"
   ]
  },
  {
   "cell_type": "code",
   "execution_count": 28,
   "id": "a4140eeb",
   "metadata": {
    "execution": {
     "iopub.execute_input": "2021-07-27T16:54:36.667934Z",
     "iopub.status.busy": "2021-07-27T16:54:36.667428Z",
     "iopub.status.idle": "2021-07-27T16:54:36.673920Z",
     "shell.execute_reply": "2021-07-27T16:54:36.674299Z",
     "shell.execute_reply.started": "2021-07-27T16:52:14.271851Z"
    },
    "papermill": {
     "duration": 0.066811,
     "end_time": "2021-07-27T16:54:36.674497",
     "exception": false,
     "start_time": "2021-07-27T16:54:36.607686",
     "status": "completed"
    },
    "tags": []
   },
   "outputs": [],
   "source": [
    "WC=pd.get_dummies(test_df5['Weather_Condition'])\n",
    "test_df5 = pd.concat([test_df5, WC],axis=1)\n",
    "test_df5 = test_df5.drop(columns=['Weather_Condition','date' , 'Time' , 'Selected'])"
   ]
  },
  {
   "cell_type": "markdown",
   "id": "3ace8d6c",
   "metadata": {
    "papermill": {
     "duration": 0.053907,
     "end_time": "2021-07-27T16:54:36.783738",
     "exception": false,
     "start_time": "2021-07-27T16:54:36.729831",
     "status": "completed"
    },
    "tags": []
   },
   "source": [
    "Now we're ready to generate the submission file. The submission file needs the columns `ID` and `Severity` only."
   ]
  },
  {
   "cell_type": "code",
   "execution_count": 29,
   "id": "d86c50c8",
   "metadata": {
    "execution": {
     "iopub.execute_input": "2021-07-27T16:54:36.898771Z",
     "iopub.status.busy": "2021-07-27T16:54:36.898144Z",
     "iopub.status.idle": "2021-07-27T16:54:36.964390Z",
     "shell.execute_reply": "2021-07-27T16:54:36.963635Z",
     "shell.execute_reply.started": "2021-07-27T16:52:14.291447Z"
    },
    "papermill": {
     "duration": 0.126817,
     "end_time": "2021-07-27T16:54:36.964571",
     "exception": false,
     "start_time": "2021-07-27T16:54:36.837754",
     "status": "completed"
    },
    "tags": []
   },
   "outputs": [
    {
     "name": "stdout",
     "output_type": "stream",
     "text": [
      "(1601, 45)\n",
      "(1601, 15)\n",
      "(1601,)\n"
     ]
    },
    {
     "data": {
      "text/html": [
       "<div>\n",
       "<style scoped>\n",
       "    .dataframe tbody tr th:only-of-type {\n",
       "        vertical-align: middle;\n",
       "    }\n",
       "\n",
       "    .dataframe tbody tr th {\n",
       "        vertical-align: top;\n",
       "    }\n",
       "\n",
       "    .dataframe thead th {\n",
       "        text-align: right;\n",
       "    }\n",
       "</style>\n",
       "<table border=\"1\" class=\"dataframe\">\n",
       "  <thead>\n",
       "    <tr style=\"text-align: right;\">\n",
       "      <th></th>\n",
       "      <th>ID</th>\n",
       "      <th>Lat</th>\n",
       "      <th>Lng</th>\n",
       "      <th>Bump</th>\n",
       "      <th>Distance(mi)</th>\n",
       "      <th>Crossing</th>\n",
       "      <th>Give_Way</th>\n",
       "      <th>Junction</th>\n",
       "      <th>No_Exit</th>\n",
       "      <th>Railway</th>\n",
       "      <th>Roundabout</th>\n",
       "      <th>Stop</th>\n",
       "      <th>Amenity</th>\n",
       "      <th>Side</th>\n",
       "      <th>date</th>\n",
       "      <th>Time</th>\n",
       "      <th>Year</th>\n",
       "      <th>Month</th>\n",
       "      <th>Day</th>\n",
       "    </tr>\n",
       "  </thead>\n",
       "  <tbody>\n",
       "    <tr>\n",
       "      <th>0</th>\n",
       "      <td>6407</td>\n",
       "      <td>37.786060</td>\n",
       "      <td>-122.390900</td>\n",
       "      <td>0</td>\n",
       "      <td>0.039</td>\n",
       "      <td>0</td>\n",
       "      <td>0</td>\n",
       "      <td>1</td>\n",
       "      <td>0</td>\n",
       "      <td>0</td>\n",
       "      <td>0</td>\n",
       "      <td>0</td>\n",
       "      <td>0</td>\n",
       "      <td>1</td>\n",
       "      <td>2016-04-04</td>\n",
       "      <td>19:20:31</td>\n",
       "      <td>2016</td>\n",
       "      <td>4</td>\n",
       "      <td>4</td>\n",
       "    </tr>\n",
       "    <tr>\n",
       "      <th>1</th>\n",
       "      <td>6408</td>\n",
       "      <td>37.769609</td>\n",
       "      <td>-122.415057</td>\n",
       "      <td>0</td>\n",
       "      <td>0.202</td>\n",
       "      <td>0</td>\n",
       "      <td>0</td>\n",
       "      <td>0</td>\n",
       "      <td>0</td>\n",
       "      <td>0</td>\n",
       "      <td>0</td>\n",
       "      <td>0</td>\n",
       "      <td>0</td>\n",
       "      <td>1</td>\n",
       "      <td>2020-10-28</td>\n",
       "      <td>11:51:00</td>\n",
       "      <td>2020</td>\n",
       "      <td>10</td>\n",
       "      <td>28</td>\n",
       "    </tr>\n",
       "    <tr>\n",
       "      <th>2</th>\n",
       "      <td>6409</td>\n",
       "      <td>37.807495</td>\n",
       "      <td>-122.476021</td>\n",
       "      <td>0</td>\n",
       "      <td>0.000</td>\n",
       "      <td>0</td>\n",
       "      <td>0</td>\n",
       "      <td>0</td>\n",
       "      <td>0</td>\n",
       "      <td>0</td>\n",
       "      <td>0</td>\n",
       "      <td>0</td>\n",
       "      <td>0</td>\n",
       "      <td>1</td>\n",
       "      <td>2019-09-09</td>\n",
       "      <td>07:36:45</td>\n",
       "      <td>2019</td>\n",
       "      <td>9</td>\n",
       "      <td>9</td>\n",
       "    </tr>\n",
       "    <tr>\n",
       "      <th>3</th>\n",
       "      <td>6410</td>\n",
       "      <td>37.761818</td>\n",
       "      <td>-122.405869</td>\n",
       "      <td>0</td>\n",
       "      <td>0.000</td>\n",
       "      <td>0</td>\n",
       "      <td>0</td>\n",
       "      <td>1</td>\n",
       "      <td>0</td>\n",
       "      <td>0</td>\n",
       "      <td>0</td>\n",
       "      <td>0</td>\n",
       "      <td>0</td>\n",
       "      <td>1</td>\n",
       "      <td>2019-08-06</td>\n",
       "      <td>15:46:25</td>\n",
       "      <td>2019</td>\n",
       "      <td>8</td>\n",
       "      <td>6</td>\n",
       "    </tr>\n",
       "    <tr>\n",
       "      <th>4</th>\n",
       "      <td>6411</td>\n",
       "      <td>37.732350</td>\n",
       "      <td>-122.414100</td>\n",
       "      <td>0</td>\n",
       "      <td>0.670</td>\n",
       "      <td>0</td>\n",
       "      <td>0</td>\n",
       "      <td>0</td>\n",
       "      <td>0</td>\n",
       "      <td>0</td>\n",
       "      <td>0</td>\n",
       "      <td>0</td>\n",
       "      <td>0</td>\n",
       "      <td>1</td>\n",
       "      <td>2018-10-17</td>\n",
       "      <td>09:54:58</td>\n",
       "      <td>2018</td>\n",
       "      <td>10</td>\n",
       "      <td>17</td>\n",
       "    </tr>\n",
       "  </tbody>\n",
       "</table>\n",
       "</div>"
      ],
      "text/plain": [
       "     ID        Lat         Lng  Bump  Distance(mi)  Crossing  Give_Way  \\\n",
       "0  6407  37.786060 -122.390900     0         0.039         0         0   \n",
       "1  6408  37.769609 -122.415057     0         0.202         0         0   \n",
       "2  6409  37.807495 -122.476021     0         0.000         0         0   \n",
       "3  6410  37.761818 -122.405869     0         0.000         0         0   \n",
       "4  6411  37.732350 -122.414100     0         0.670         0         0   \n",
       "\n",
       "   Junction  No_Exit  Railway  Roundabout  Stop  Amenity  Side        date  \\\n",
       "0         1        0        0           0     0        0     1  2016-04-04   \n",
       "1         0        0        0           0     0        0     1  2020-10-28   \n",
       "2         0        0        0           0     0        0     1  2019-09-09   \n",
       "3         1        0        0           0     0        0     1  2019-08-06   \n",
       "4         0        0        0           0     0        0     1  2018-10-17   \n",
       "\n",
       "       Time  Year  Month  Day  \n",
       "0  19:20:31  2016      4    4  \n",
       "1  11:51:00  2020     10   28  \n",
       "2  07:36:45  2019      9    9  \n",
       "3  15:46:25  2019      8    6  \n",
       "4  09:54:58  2018     10   17  "
      ]
     },
     "execution_count": 29,
     "metadata": {},
     "output_type": "execute_result"
    }
   ],
   "source": [
    "X_test = test_df5.drop(columns=['ID'])\n",
    "print(test_df5.shape)\n",
    "# You should update/remove the next line once you change the features used for training\n",
    "X_test = X_test[['Lat','Lng','Partly Cloudy','Distance(mi)','Crossing','Fair','Wind_Speed(mph)','Humidity(%)','Precipitation(in)','Stop','Amenity','Side','Year','Month','Wind_Chill(F)']]\n",
    "print(X_test.shape)\n",
    "y_test_predicted = classifier.predict(X_test)\n",
    "print(y_test_predicted.shape)\n",
    "test_df5['Severity'] = y_test_predicted\n",
    "\n",
    "test_df.head()"
   ]
  },
  {
   "cell_type": "code",
   "execution_count": 30,
   "id": "06d514f1",
   "metadata": {
    "execution": {
     "iopub.execute_input": "2021-07-27T16:54:37.081180Z",
     "iopub.status.busy": "2021-07-27T16:54:37.080562Z",
     "iopub.status.idle": "2021-07-27T16:54:37.088410Z",
     "shell.execute_reply": "2021-07-27T16:54:37.087779Z",
     "shell.execute_reply.started": "2021-07-27T16:52:14.375980Z"
    },
    "papermill": {
     "duration": 0.068001,
     "end_time": "2021-07-27T16:54:37.088550",
     "exception": false,
     "start_time": "2021-07-27T16:54:37.020549",
     "status": "completed"
    },
    "tags": []
   },
   "outputs": [],
   "source": [
    "test_df5[['ID', 'Severity']].to_csv('/kaggle/working/submission.csv', index=False)"
   ]
  },
  {
   "cell_type": "markdown",
   "id": "e78c73b5",
   "metadata": {
    "papermill": {
     "duration": 0.08226,
     "end_time": "2021-07-27T16:54:37.253114",
     "exception": false,
     "start_time": "2021-07-27T16:54:37.170854",
     "status": "completed"
    },
    "tags": []
   },
   "source": [
    "The remaining steps is to submit the generated file and are as follows. \n",
    "\n",
    "1. Press `Save Version` on the upper right corner of this notebook.\n",
    "2. Write a `Version Name` of your choice and choose `Save & Run All (Commit)` then click `Save`.\n",
    "3. Wait for the saved notebook to finish running the go to the saved notebook.\n",
    "4. Scroll down until you see the output files then select the `submission.csv` file and click `Submit`.\n",
    "\n",
    "Now your submission will be evaluated and your score will be updated on the leaderboard! CONGRATULATIONS!!"
   ]
  },
  {
   "cell_type": "markdown",
   "id": "76a78f81",
   "metadata": {
    "papermill": {
     "duration": 0.083729,
     "end_time": "2021-07-27T16:54:37.419843",
     "exception": false,
     "start_time": "2021-07-27T16:54:37.336114",
     "status": "completed"
    },
    "tags": []
   },
   "source": [
    "## Conclusion\n",
    "\n",
    "In this notebook, we have demonstrated the essential steps that one should do in order to get \"slightly\" familiar with the data and the submission process. We chose not to go into details in each step to keep the welcoming notebook simple and make a room for improvement.\n",
    "\n",
    "You're encourged to `Fork` the notebook, edit it, add your insights and use it to create your submission."
   ]
  }
 ],
 "metadata": {
  "kernelspec": {
   "display_name": "Python 3",
   "language": "python",
   "name": "python3"
  },
  "language_info": {
   "codemirror_mode": {
    "name": "ipython",
    "version": 3
   },
   "file_extension": ".py",
   "mimetype": "text/x-python",
   "name": "python",
   "nbconvert_exporter": "python",
   "pygments_lexer": "ipython3",
   "version": "3.7.10"
  },
  "papermill": {
   "default_parameters": {},
   "duration": 105.720903,
   "end_time": "2021-07-27T16:54:38.311617",
   "environment_variables": {},
   "exception": null,
   "input_path": "__notebook__.ipynb",
   "output_path": "__notebook__.ipynb",
   "parameters": {},
   "start_time": "2021-07-27T16:52:52.590714",
   "version": "2.3.3"
  }
 },
 "nbformat": 4,
 "nbformat_minor": 5
}
